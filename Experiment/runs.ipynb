{
 "cells": [
  {
   "attachments": {},
   "cell_type": "markdown",
   "metadata": {},
   "source": [
    "# This is the notebook in which the code for the runs is made. First a standard run will be developed. Using this standard run, novel variants of this run can be made"
   ]
  },
  {
   "cell_type": "code",
   "execution_count": 1,
   "metadata": {},
   "outputs": [],
   "source": [
    "# import all necessary packages\n",
    "import numpy as np\n",
    "import matplotlib.pyplot as plt\n",
    "import pandas as pd\n",
    "import os\n",
    "import random\n",
    "import yaml\n",
    "import itertools"
   ]
  },
  {
   "cell_type": "code",
   "execution_count": 2,
   "metadata": {},
   "outputs": [],
   "source": [
    "def open_yaml(file):\n",
    "    \"\"\"open a yaml file and return the contents\"\"\"\n",
    "    with open(file, \"r\") as stream:\n",
    "        settings = yaml.safe_load(stream)\n",
    "        \n",
    "    return settings"
   ]
  },
  {
   "cell_type": "code",
   "execution_count": 3,
   "metadata": {},
   "outputs": [],
   "source": [
    "# define standard bar orientations, create an empty list for the trials\n",
    "\n",
    "# PRF stimulus settings:\n",
    "settings = open_yaml('expsettings_2R.yml')\n",
    "pRF_stimulus_settings = settings['PRF stimulus settings']   \n",
    "bar_pass_steps = pRF_stimulus_settings['Bar pass steps'] # number of steps the bar takes to traverse the aperture\n",
    "blanks_length = pRF_stimulus_settings['Blanks length'] # length of interbar periods (-1 in orientation). like bar pass steps, in units of TRs or bar step length\n",
    "bar_orientations = np.array(pRF_stimulus_settings['Bar orientations']) \n",
    "bar_step_length = pRF_stimulus_settings['Bar step length'] # in seconds. this is only used if Scanner sync is set to False\n",
    "operating_system = settings['operating system']\n",
    "win_size = np.array(settings['window']['size'])"
   ]
  },
  {
   "cell_type": "code",
   "execution_count": 4,
   "metadata": {},
   "outputs": [],
   "source": [
    "# Create a list of the TR's per barpass or blank, blank lengths can easily be altered here.\n",
    "# link this list with the orientations per subrun, to create the orientation of the bar at each TR\n",
    "\n",
    "steps_array = bar_pass_steps*np.ones(len(bar_orientations))\n",
    "blanks_array = blanks_length*np.ones(len(bar_orientations))\n",
    "\n",
    "repeat_times = np.where(bar_orientations == -1, blanks_array, steps_array).astype(int)\n",
    "repeats, bar_orientation = np.tile(repeat_times,3), np.tile(bar_orientations, 3)\n",
    "\n",
    "bar_orientation_at_TR = np.repeat(bar_orientation, repeats)"
   ]
  },
  {
   "cell_type": "code",
   "execution_count": 5,
   "metadata": {},
   "outputs": [
    {
     "name": "stdout",
     "output_type": "stream",
     "text": [
      "Expected number of TRs are: 375\n"
     ]
    }
   ],
   "source": [
    "# define the number of trials\n",
    "\n",
    "trial_number = bar_pass_steps*len(np.where(bar_orientation != -1)[0]) + blanks_length*len(np.where(bar_orientation == -1)[0])\n",
    "\n",
    "print('Expected number of TRs are:', trial_number)"
   ]
  },
  {
   "cell_type": "code",
   "execution_count": 6,
   "metadata": {},
   "outputs": [
    {
     "name": "stdout",
     "output_type": "stream",
     "text": [
      "[-486.       -434.842105 -383.684211 -332.526316 -281.368421 -230.210526\n",
      " -179.052632 -127.894737  -76.736842  -25.578947   25.578947   76.736842\n",
      "  127.894737  179.052632  230.210526  281.368421  332.526316  383.684211\n",
      "  434.842105  486.      ]\n"
     ]
    }
   ],
   "source": [
    "# define arrays for the bar positions and blanks (the window size is shortened by a tenth to ensure all bars are visible on the screen)\n",
    "\n",
    "bar_pos_array = np.round((win_size[1]-win_size[1]/10)*np.linspace(-0.5,0.5, bar_pass_steps),6)\n",
    "\n",
    "\n",
    "blank_array = np.zeros(blanks_length)\n",
    "\n",
    "viol_pos = bar_pos_array[1:-1]\n",
    "print(bar_pos_array)"
   ]
  },
  {
   "cell_type": "code",
   "execution_count": 7,
   "metadata": {},
   "outputs": [],
   "source": [
    "# define the bar position in each orientation, For regular display with circular aperture/square\n",
    "\n",
    "bar_pos_in_ori = np.array([])\n",
    "\n",
    "for i, orientation in enumerate(bar_orientation):\n",
    "    if orientation == -1:\n",
    "        bar_pos_in_ori = np.append(bar_pos_in_ori, blank_array)\n",
    "    else:\n",
    "        bar_pos_in_ori = np.append(bar_pos_in_ori, bar_pos_array)\n",
    "# print(bar_pos_in_ori)\n",
    "\n",
    "# define the bar direction at each TR\n",
    "bar_direction_at_TR = np.round(np.random.rand(trial_number))"
   ]
  },
  {
   "cell_type": "code",
   "execution_count": 8,
   "metadata": {},
   "outputs": [],
   "source": [
    "# Create the standard pRF trial list, from which each run can be defined\n",
    "# The trial list will be loaded into a tsv file\n",
    "\n",
    "trial_list = {\"orientation_at_TR\":[], 'pos_in_ori_at_TR':[], \"direction_at_TR\":[]}\n",
    "\n",
    "for i in range(trial_number):\n",
    "    trial_list['orientation_at_TR'].append(bar_orientation_at_TR[i])\n",
    "    trial_list['pos_in_ori_at_TR'].append(bar_pos_in_ori[i])\n",
    "    trial_list['direction_at_TR'].append(bar_direction_at_TR[i])\n",
    "    \n",
    "df = pd.DataFrame(trial_list)\n",
    "\n",
    "os.makedirs('run_list', exist_ok = True)\n",
    "df.to_csv('run_list/standard_run.tsv', sep='\\t', index=True, na_rep='NA')\n"
   ]
  },
  {
   "attachments": {},
   "cell_type": "markdown",
   "metadata": {},
   "source": [
    "## Load the standard run into a numpy array, create a function to visualize it, and use it to create the new runs"
   ]
  },
  {
   "cell_type": "code",
   "execution_count": 9,
   "metadata": {},
   "outputs": [],
   "source": [
    "data = np.genfromtxt(fname=\"run_list/standard_run.tsv\", delimiter=\"\\t\", skip_header=1, filling_values=1)\n",
    "\n",
    "standard_run = np.delete(data, 0, 1) \n"
   ]
  },
  {
   "cell_type": "code",
   "execution_count": 10,
   "metadata": {},
   "outputs": [],
   "source": [
    "def show_runs(run):\n",
    "    \"\"\"plot the runs for the prf checkers experiment with 0 and 180 being horizontal barpasses, from left to right and opposite, respectively, \n",
    "    and 90 and 270 degrees being vertical, downwards and upwards, respectively. \n",
    "    The run needs to be in an array, with in the first column a column with the angle of the barpass and in the second column, the positions of the bar\"\"\"\n",
    "    \n",
    "    # First, make arrays necessary for the plotting of the barpasses, with the positions of all the bars (haal 540 en -540 eruit)\n",
    "\n",
    "    positions = np.round((win_size[1]-win_size[1]/10)*np.linspace(-0.5,0.5, 20),6)\n",
    "    pos_forwards = np.array((range(20), positions))\n",
    "    pos_backwards = np.array((range(19,-1,-1), positions))\n",
    "\n",
    "    # Create empty arrays to alter with the bar positions of the run and create the figure with the different subplots  \n",
    "    arrays = [np.zeros((20, 20)) for _ in range(len(run[:,1]))]\n",
    "    average_arrays = [np.zeros((20, 20)) for _ in range(len(run[:,1]))]\n",
    "    height_of_run = int(len(run[:,1])/20)\n",
    "    fig, axs = plt.subplots(height_of_run, 20, figsize=(20, height_of_run))\n",
    "\n",
    "    \n",
    "    # Edit the arrays to that the values of the position of the bar at that moment becomes a 1 \n",
    "    for i, value in enumerate(run[:,0]):\n",
    "\n",
    "        for j, position in enumerate(pos_forwards[1,:]):\n",
    "            if run[i,1] == position:\n",
    "                line = int(pos_forwards[0,j])\n",
    "\n",
    "                if value == 0:\n",
    "                    arrays[i][:,line] = 1\n",
    "\n",
    "                elif value == 90:\n",
    "                    arrays[i][line,:] = 1\n",
    "                    \n",
    "                if value == 0 or value == 180:\n",
    "                    average_arrays[i][:,line] = 1\n",
    "                elif value == 90 or value ==270:\n",
    "                    average_arrays[i][line,:] = 1\n",
    "                    \n",
    "        for j, position in enumerate(pos_backwards[1,:]):\n",
    "            if run[i,1] == position:\n",
    "                line = int(pos_backwards[0,j])\n",
    "\n",
    "                if value == 180:\n",
    "                    arrays[i][:,line] = 1\n",
    "                    \n",
    "                elif value == 270:\n",
    "                    arrays[i][line,:] = 1\n",
    "                    \n",
    "                    \n",
    "    # calculate the sum of all arrays, to show that all positions have been omitted once and been used as a violation once \n",
    "    average = np.sum(average_arrays, axis = 0)\n",
    "    \n",
    "    # Iterate through the 2D arrays and display each one in a subplot\n",
    "    for ax, array in zip(axs.flat, arrays):\n",
    "        ax.imshow(array, cmap = 'Dark2')\n",
    "        ax.axis('off')\n",
    "\n",
    "    plt.show()\n",
    "\n",
    "    print('This is the average plot of all frames together')\n",
    "    plt.imshow(average, cmap = 'Dark2')\n",
    "    plt.show()"
   ]
  },
  {
   "cell_type": "code",
   "execution_count": 11,
   "metadata": {},
   "outputs": [
    {
     "data": {
      "image/png": "[encoded data removed]",
      "text/plain": [
       "<Figure size 1440x1296 with 360 Axes>"
      ]
     },
     "metadata": {
      "needs_background": "light"
     },
     "output_type": "display_data"
    },
    {
     "name": "stdout",
     "output_type": "stream",
     "text": [
      "This is the average plot of all frames together\n"
     ]
    },
    {
     "data": {
      "image/png": "[encoded data removed]",
      "text/plain": [
       "<Figure size 432x288 with 1 Axes>"
      ]
     },
     "metadata": {
      "needs_background": "light"
     },
     "output_type": "display_data"
    }
   ],
   "source": [
    "# Show how a regular (standard) run would look like\n",
    "show_runs(standard_run)"
   ]
  },
  {
   "attachments": {},
   "cell_type": "markdown",
   "metadata": {},
   "source": [
    "## Alter the original pRF (Standard) run by introducing violations and omissions"
   ]
  },
  {
   "cell_type": "code",
   "execution_count": 12,
   "metadata": {},
   "outputs": [],
   "source": [
    "def viol_4_omissions(n_pos:int=18):\n",
    "    \"\"\"function to make a random order of 18 positions to use as violations\"\"\"\n",
    "    return np.random.permutation(np.arange(n_pos))\n",
    "\n",
    "def omissions_2_barpasses(n_bps:int=6, \n",
    "                          n_pos:int=18,\n",
    "                         min_diff:int=3):\n",
    "    \"\"\"function to make random positions to be violated in three consecutive runs. This is done for six barpasses (horizontal or vertical in both directions). \n",
    "    For the complete randomization of the omission/violation positions in three runs, this function has to be executed twice to find the horizontal and vertical positions.\n",
    "    With this function, there are 3 omissions/violations per barpass and they have a minimum distance of 3 positions. \"\"\"\n",
    "    n_subblocks = int(n_pos//n_bps)\n",
    "    n_bars_per_subblock = int(n_pos//n_subblocks)\n",
    "    subblock_positions = np.arange(n_bars_per_subblock)\n",
    "    total_diff = 2\n",
    "    while total_diff != 0:\n",
    "        all_bps = np.array([(n_bars_per_subblock*i)+np.random.permutation(subblock_positions) for i in range(n_subblocks)])\n",
    "        total_diff = np.sum(np.diff(all_bps, axis=0)<min_diff)\n",
    "          \n",
    "    return all_bps"
   ]
  },
  {
   "cell_type": "code",
   "execution_count": 13,
   "metadata": {},
   "outputs": [],
   "source": [
    "def bar_passes(run = standard_run):\n",
    "        \n",
    "    # find the values where the bar-passes start, seperate for the horizontal and vertical bar-passes.\n",
    "    bp_v = []\n",
    "    bp_h = []\n",
    "    bp = []\n",
    "    \n",
    "    for i, value in enumerate(run[:,0]):\n",
    "        if value == 0 or value == 180:\n",
    "            if value != run[(i-1),0]:\n",
    "                bp_v.append(i)\n",
    "        elif value == 90 or value == 270:\n",
    "            if value != run[(i-1),0]:\n",
    "                bp_h.append(i)\n",
    "        if value == 0 or value == 90 or value == 180 or value == 270:\n",
    "            if value != run[(i-1),0]:\n",
    "                bp.append(i)\n",
    "    \n",
    "    return bp_v, bp_h, bp"
   ]
  },
  {
   "cell_type": "code",
   "execution_count": 14,
   "metadata": {},
   "outputs": [],
   "source": [
    "def configurations(run = standard_run, win_size = win_size):\n",
    "\n",
    "    positions = np.round((win_size[1]-win_size[1]/10)*np.linspace(-0.5,0.5, 20),6)\n",
    "    posi = positions[1:-1]\n",
    "\n",
    "    viols = (np.vstack((viol_4_omissions(), viol_4_omissions()))).T\n",
    "\n",
    "    oms_h = omissions_2_barpasses()\n",
    "    oms_v = omissions_2_barpasses()\n",
    "        \n",
    "    # create new runs as a copy of the original run, which we can alter to our wished new configurations\n",
    "    violated_run = run.copy()\n",
    "    omission_run = run.copy()\n",
    "    empty_run = run.copy()\n",
    "    empty_run[:,1] = 0\n",
    "\n",
    "    bp_v, bp_h, bp = bar_passes()\n",
    "\n",
    "    # Use the indices of the bar-passes +1 (as we are not violating/omitting the first and the last position) as the start of the bar-pass. Then omitt/violate the pre-determined position (with the pre-determined violation)\n",
    "    for i, index in enumerate(bp_v):\n",
    "        for j, value in enumerate(posi):\n",
    "            h_viol = posi[(viols[j,0])]\n",
    "            viol_index = int(index + j + 1)\n",
    "            for k in range(3):\n",
    "                if j == oms_v[k,i]:\n",
    "                \n",
    "                    # use the just chosen index and violate it with the first value of the shuffled violations list for the violation and empty run and create an omission in the omission run.\n",
    "                    violated_run[viol_index,1] = h_viol\n",
    "                    violated_run[viol_index,0] = 90\n",
    "                    omission_run[viol_index,0] = -1\n",
    "                    empty_run[viol_index,1] = h_viol\n",
    "                    empty_run[viol_index,0] = 90\n",
    "    \n",
    "    # Do the same for the horizontal bar-passes\n",
    "    for i, index in enumerate(bp_h):\n",
    "        for j, value in enumerate(posi):    \n",
    "            v_viol = posi[viols[j,1]]\n",
    "            viol_index = int(index + j + 1)\n",
    "            for k in range(3):\n",
    "                if j == oms_h[k,i]:\n",
    "                    \n",
    "                    violated_run[viol_index,1] = v_viol\n",
    "                    violated_run[viol_index,0] = 0\n",
    "                    omission_run[viol_index,0] = -1\n",
    "                    empty_run[viol_index,1] = v_viol\n",
    "                    empty_run[viol_index,0] = 0\n",
    "\n",
    "    return violated_run, omission_run, empty_run"
   ]
  },
  {
   "cell_type": "code",
   "execution_count": 15,
   "metadata": {},
   "outputs": [
    {
     "data": {
      "image/png": "[encoded data removed]",
      "text/plain": [
       "<Figure size 1440x4032 with 1120 Axes>"
      ]
     },
     "metadata": {
      "needs_background": "light"
     },
     "output_type": "display_data"
    },
    {
     "name": "stdout",
     "output_type": "stream",
     "text": [
      "This is the average plot of all frames together\n"
     ]
    },
    {
     "data": {
      "image/png": "[encoded data removed]",
      "text/plain": [
       "<Figure size 432x288 with 1 Axes>"
      ]
     },
     "metadata": {
      "needs_background": "light"
     },
     "output_type": "display_data"
    }
   ],
   "source": [
    "violated_run, omitted_run, empty_run = configurations()\n",
    "# Show an example of a violation, omission and empty run\n",
    "combined_run = np.concatenate((violated_run, omitted_run, empty_run))\n",
    "show_runs(combined_run)"
   ]
  },
  {
   "attachments": {},
   "cell_type": "markdown",
   "metadata": {},
   "source": [
    "## Create runs for each subject and store the runs per sub in a .tsv file"
   ]
  },
  {
   "cell_type": "code",
   "execution_count": 16,
   "metadata": {},
   "outputs": [],
   "source": [
    "def permute_runs():\n",
    "    \"\"\"create three different orders of runs, each with one violation, one omission and one empty subrun in a different order\"\"\"\n",
    "\n",
    "    # Create an initial examplary order of the three subruns to make up one total run\n",
    "    order = ['e', 'o', 'v']\n",
    "\n",
    "    # Create a list with all possible permutations of the run\n",
    "    permutations = list(itertools.permutations(order))\n",
    "\n",
    "    # Ensure that there are two lists with three unique permutations, where no subrun occurs at the same position\n",
    "    unique_perms_1 = []\n",
    "    unique_perms_2 = []\n",
    "    for i, permutation in enumerate(permutations):\n",
    "        if i == 0:\n",
    "            unique_perms_1.append(permutation)\n",
    "        else:\n",
    "            if any(config == unique_perms_1[0][j] for j, config in enumerate(permutation)):\n",
    "                unique_perms_2.append(permutation)\n",
    "            else:\n",
    "                unique_perms_1.append(permutation)\n",
    "    \n",
    "    # Elongate the list of permutations to choose from to be able to create more runs per subject (just in case)\n",
    "    # The main focus is on the first three unique permutations, the second three are not unique anymore and are only added for extra data collection if there is time\n",
    "    total_perms_1 = unique_perms_1 + unique_perms_2\n",
    "    total_perms_2 = unique_perms_2 + unique_perms_1\n",
    "\n",
    "    return total_perms_1, total_perms_2"
   ]
  },
  {
   "cell_type": "code",
   "execution_count": 17,
   "metadata": {},
   "outputs": [],
   "source": [
    "def permutation_order():\n",
    "    \"\"\"Makes a randomly shuffled list with the six possible permutations for the first three (and second three) runs\"\"\"\n",
    "    \n",
    "    permutation_order = [0,1,2]\n",
    "    permutation_order_1 = [3,4,5]\n",
    "    p_o_p = np.array(list(itertools.permutations(permutation_order)))\n",
    "    p_o_p_1 = np.array(list(itertools.permutations(permutation_order_1)))\n",
    "    p_o_p = np.hstack((p_o_p, p_o_p_1))\n",
    "    random.shuffle(p_o_p)\n",
    "\n",
    "    return p_o_p\n"
   ]
  },
  {
   "cell_type": "code",
   "execution_count": 18,
   "metadata": {},
   "outputs": [],
   "source": [
    "def runs_per_subject():\n",
    "    \"\"\"creates a dictionary with a key for twelve subjects with a list of runs (with subruns) per subject\"\"\"\n",
    "\n",
    "    # Create two lists with permutations of runs with different orders of subruns and a further list to permute these runs.\n",
    "    tp1, tp2 = permute_runs()\n",
    "    p_o_p = permutation_order()\n",
    "\n",
    "    subject_run = {key: [] for key in range(1, 13)}\n",
    "\n",
    "    for i, value in enumerate(p_o_p):\n",
    "        for j in range(6):\n",
    "            subject_run[(i+1)].append(tp1[value[j]])\n",
    "            subject_run[(i+7)].append(tp2[value[j]])\n",
    "\n",
    "    return subject_run"
   ]
  },
  {
   "attachments": {},
   "cell_type": "markdown",
   "metadata": {},
   "source": [
    "### Combine the previous functions to make eight runs for all the twelve participants"
   ]
  },
  {
   "cell_type": "code",
   "execution_count": 19,
   "metadata": {},
   "outputs": [],
   "source": [
    "# Make the first two runs regular pRF runs\n",
    "\n",
    "run_length = 375\n",
    "\n",
    "for i in range(12):\n",
    "\n",
    "    for j in range(2):\n",
    "\n",
    "        if i >= 9:\n",
    "            run_name = 'sub-0' + str((i+1)) + '_run-' + str((j+1))\n",
    "        elif i < 9:\n",
    "            run_name = 'sub-00' + str((i+1)) + '_run-' + str((j+1))\n",
    "\n",
    "        trial_list = {\"orientation_at_TR\":[], \"pos_in_ori_at_TR\":[], \"direction_at_TR\":[]}\n",
    "\n",
    "        for k in range(run_length):\n",
    "\n",
    "            trial_list[\"orientation_at_TR\"].append(standard_run[k,0])\n",
    "            trial_list['pos_in_ori_at_TR'].append(standard_run[k,1])\n",
    "            trial_list['direction_at_TR'].append(standard_run[k,2])\n",
    "\n",
    "        df = pd.DataFrame(trial_list)\n",
    "        # save the dataframe as a .tsv file with the subject & run name\n",
    "        name = 'run_list/' + run_name + '.tsv'\n",
    "        df.to_csv(name, sep='\\t', index=True, na_rep='NA')"
   ]
  },
  {
   "cell_type": "code",
   "execution_count": 20,
   "metadata": {},
   "outputs": [],
   "source": [
    "# create new violations, omissions and empty runs for every participant\n",
    "\n",
    "# load all the necessary variables using previous functions\n",
    "sub_run_length = 125\n",
    "subject_run = runs_per_subject()\n",
    "\n",
    "# Loop over each subject in the subject run dictionary and create new violation, omission and empty runs for each subject\n",
    "# In the dictionary each subject has 6 runs,listed as tuples, which each consist of 3 subruns: one violation ('v'), one omission (\"o\") and one empty run (\"e\"), in pseudo-random order\n",
    "for i, subject in enumerate(subject_run):\n",
    "    v, o, e = configurations()\n",
    "\n",
    "    # Loop over each run per subject, there are six per subject. Give each run, for each subject, a name in the format of sub-0xx_run-x starting at sub-001_run-3\n",
    "    for run, run_order in enumerate(subject_run[subject]):\n",
    "        if subject >= 10:\n",
    "            run_name = 'sub-0' + str(subject) + '_run-' + str((run+3))\n",
    "        elif subject <10:\n",
    "            run_name = 'sub-00' + str(subject) + '_run-' + str((run+3)) \n",
    "\n",
    "        # make an empty dictionary for each run  \n",
    "        trial_list = {\"orientation_at_TR\":[], \"pos_in_ori_at_TR\":[], \"direction_at_TR\":[]}\n",
    "\n",
    "        # loop over the order of the runs, to be able to use the assigned subrun, add the info of each of the three subruns, totalling to one run in a dictionary called 'trial list'\n",
    "        # Each total run is saved in a pandas dataframe and subsequently saved as a .tsv file with the assigned name for that run\n",
    "        for k, subrun in enumerate(run_order): \n",
    "\n",
    "            if run == 0 or run == 3:\n",
    "                \n",
    "                for l in range(sub_run_length):\n",
    "                    if subrun == 'v':\n",
    "                        trial_list[\"orientation_at_TR\"].append(v[l,0])\n",
    "                        trial_list['pos_in_ori_at_TR'].append(v[l,1])\n",
    "                        trial_list['direction_at_TR'].append(v[l,2])\n",
    "                    elif subrun == 'o':\n",
    "                        trial_list[\"orientation_at_TR\"].append(o[l,0])\n",
    "                        trial_list['pos_in_ori_at_TR'].append(o[l,1])\n",
    "                        trial_list['direction_at_TR'].append(o[l,2])\n",
    "                    elif subrun == 'e':\n",
    "                        trial_list[\"orientation_at_TR\"].append(e[l,0])\n",
    "                        trial_list['pos_in_ori_at_TR'].append(e[l,1])\n",
    "                        trial_list['direction_at_TR'].append(e[l,2])\n",
    "            \n",
    "            elif run == 1 or run == 4:\n",
    "\n",
    "                for l in range(sub_run_length,(2*sub_run_length)):\n",
    "                    if subrun == 'v':\n",
    "                        trial_list[\"orientation_at_TR\"].append(v[l,0])\n",
    "                        trial_list['pos_in_ori_at_TR'].append(v[l,1])\n",
    "                        trial_list['direction_at_TR'].append(v[l,2])\n",
    "                    elif subrun == 'o':\n",
    "                        trial_list[\"orientation_at_TR\"].append(o[l,0])\n",
    "                        trial_list['pos_in_ori_at_TR'].append(o[l,1])\n",
    "                        trial_list['direction_at_TR'].append(o[l,2])\n",
    "                    elif subrun == 'e':\n",
    "                        trial_list[\"orientation_at_TR\"].append(e[l,0])\n",
    "                        trial_list['pos_in_ori_at_TR'].append(e[l,1])\n",
    "                        trial_list['direction_at_TR'].append(e[l,2])\n",
    "\n",
    "            elif run == 2 or run == 5:\n",
    "\n",
    "                for l in range((2*sub_run_length), (3*sub_run_length)):\n",
    "                    if subrun == 'v':\n",
    "                        trial_list[\"orientation_at_TR\"].append(v[l,0])\n",
    "                        trial_list['pos_in_ori_at_TR'].append(v[l,1])\n",
    "                        trial_list['direction_at_TR'].append(v[l,2])\n",
    "                    elif subrun == 'o':\n",
    "                        trial_list[\"orientation_at_TR\"].append(o[l,0])\n",
    "                        trial_list['pos_in_ori_at_TR'].append(o[l,1])\n",
    "                        trial_list['direction_at_TR'].append(o[l,2])\n",
    "                    elif subrun == 'e':\n",
    "                        trial_list[\"orientation_at_TR\"].append(e[l,0])\n",
    "                        trial_list['pos_in_ori_at_TR'].append(e[l,1])\n",
    "                        trial_list['direction_at_TR'].append(e[l,2])\n",
    "\n",
    "        # transform the dictionary of each run to a dataframe, which can be saved as a .tsv file with the run name. This can then be used in the session.py script.\n",
    "        df = pd.DataFrame(trial_list)\n",
    "\n",
    "        # save the dataframe as a .tsv file with the subject & run name\n",
    "        name = 'run_list/' + run_name + '.tsv'\n",
    "        df.to_csv(name, sep='\\t', index=True, na_rep='NA')\n",
    "\n"
   ]
  }
 ],
 "metadata": {
  "kernelspec": {
   "display_name": "base",
   "language": "python",
   "name": "python3"
  },
  "language_info": {
   "codemirror_mode": {
    "name": "ipython",
    "version": 3
   },
   "file_extension": ".py",
   "mimetype": "text/x-python",
   "name": "python",
   "nbconvert_exporter": "python",
   "pygments_lexer": "ipython3",
   "version": "3.8.8"
  },
  "orig_nbformat": 4,
  "vscode": {
   "interpreter": {
    "hash": "fceaa96c13206107e8aa5ba53a0fc3659ed390bcfd472754e81681af19718dfc"
   }
  }
 },
 "nbformat": 4,
 "nbformat_minor": 2
}
